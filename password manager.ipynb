{
 "cells": [
  {
   "cell_type": "code",
   "execution_count": 1,
   "id": "871e3237",
   "metadata": {},
   "outputs": [],
   "source": [
    "# using javascript object notation because its convenient and fast and offers security\n",
    "import json\n",
    "# using os for os.path module that allows us to interact with the file system.\n",
    "import os  "
   ]
  },
  {
   "cell_type": "code",
   "execution_count": 2,
   "id": "ddc25643",
   "metadata": {},
   "outputs": [],
   "source": [
    "# Define the name of the file to store the passwords\n",
    "FILENAME = r\"C:\\Users\\YOUNUS\\Desktop\\passwords.json\"\n",
    "# We get \"SyntaxError: (unicode error) 'unicodeescape' codec can't decode bytes in position 2-3: truncated \\UXXXXXXXX escape\" \n",
    "#if there's no r"
   ]
  },
  {
   "cell_type": "code",
   "execution_count": 3,
   "id": "723f65b7",
   "metadata": {},
   "outputs": [],
   "source": [
    "# condition 1- If the file DOES NOT EXIST, create it with an empty dictionary\n",
    "if not os.path.exists(FILENAME):\n",
    "    with open(FILENAME, \"w\") as f:\n",
    "        json.dump({}, f)\n",
    "        \n",
    "# condition 2- If the file EXISTS and is not empty\n",
    "try:\n",
    "    #load its contents\n",
    "    with open(FILENAME, \"r\") as f:\n",
    "        file_contents = f.read()\n",
    "        if file_contents:\n",
    "            passwords = json.loads(file_contents)\n",
    "        else:\n",
    "            passwords = {}\n",
    "\n",
    "except FileNotFoundError:\n",
    "    passwords = {}"
   ]
  },
  {
   "cell_type": "code",
   "execution_count": 4,
   "id": "0ab416df",
   "metadata": {},
   "outputs": [],
   "source": [
    "def add_password():\n",
    "    website = input(\"Enter website: \")\n",
    "    username = input(\"Enter username: \")\n",
    "    password = input(\"Enter password: \")\n",
    "    passwords[website] = {\"username\": username, \"password\": password}\n",
    "\n",
    "    with open(FILENAME, \"w\") as f:  # Write the updated passwords to the file\n",
    "        json.dump(passwords, f)"
   ]
  },
  {
   "cell_type": "code",
   "execution_count": 5,
   "id": "89eb4209",
   "metadata": {},
   "outputs": [],
   "source": [
    "def get_password():\n",
    "    website = input(\"Enter website: \")\n",
    "    if website in passwords:\n",
    "        print(\"Username:\", passwords[website][\"username\"])\n",
    "        print(\"Password:\", passwords[website][\"password\"])\n",
    "    else:\n",
    "        print(\"Website not found.\")"
   ]
  },
  {
   "cell_type": "code",
   "execution_count": 6,
   "id": "0f6bc151",
   "metadata": {},
   "outputs": [],
   "source": [
    "def del_password():\n",
    "    website = input(\"Enter website: \")\n",
    "    if website in passwords:\n",
    "        del passwords[website]\n",
    "        print(\"Successfully deleted.\")\n",
    "        with open(FILENAME, \"w\") as f:  # Update passwords to the file after deletion\n",
    "            json.dump(passwords, f)\n",
    "    else:\n",
    "        print(\"Website doesn't exist\")"
   ]
  },
  {
   "cell_type": "code",
   "execution_count": null,
   "id": "9ee6fcb4",
   "metadata": {},
   "outputs": [
    {
     "name": "stdout",
     "output_type": "stream",
     "text": [
      "Enter 1 to add a password, 2 to get a password, 3 to delete a password, or 0 to exit: 2\n",
      "Enter website: gmail\n",
      "Website not found.\n"
     ]
    }
   ],
   "source": [
    "# Main loop\n",
    "while True:\n",
    "    choice = int(input(\"Enter 1 to add a password, 2 to get a password, 3 to delete a password, or 0 to exit: \"))\n",
    "    if choice == 1:\n",
    "        add_password()\n",
    "    elif choice == 2:\n",
    "        get_password()\n",
    "    elif choice == 3:\n",
    "        del_password()\n",
    "    elif choice == 0:\n",
    "        break\n",
    "    else:\n",
    "        print(\"Invalid choice.\")"
   ]
  },
  {
   "cell_type": "code",
   "execution_count": null,
   "id": "6595131c",
   "metadata": {},
   "outputs": [],
   "source": []
  },
  {
   "cell_type": "code",
   "execution_count": null,
   "id": "eb0d339a",
   "metadata": {},
   "outputs": [],
   "source": []
  }
 ],
 "metadata": {
  "kernelspec": {
   "display_name": "Python 3 (ipykernel)",
   "language": "python",
   "name": "python3"
  },
  "language_info": {
   "codemirror_mode": {
    "name": "ipython",
    "version": 3
   },
   "file_extension": ".py",
   "mimetype": "text/x-python",
   "name": "python",
   "nbconvert_exporter": "python",
   "pygments_lexer": "ipython3",
   "version": "3.9.12"
  }
 },
 "nbformat": 4,
 "nbformat_minor": 5
}
